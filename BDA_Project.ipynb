{
  "nbformat": 4,
  "nbformat_minor": 0,
  "metadata": {
    "colab": {
      "provenance": []
    },
    "kernelspec": {
      "name": "python3",
      "display_name": "Python 3"
    },
    "language_info": {
      "name": "python"
    }
  },
  "cells": [
    {
      "cell_type": "markdown",
      "source": [
        "Title: Predicting Flight Delays using PySpark: A Machine Learning Approach\n",
        "\n",
        "Abstract:\n",
        "\n",
        "Air travel is an integral part of modern transportation systems, yet flight delays continue to pose significant challenges for both airlines and passengers. In this study, we propose a predictive model leveraging PySpark, a powerful tool for distributed computing, to forecast flight delays accurately. The goal is to develop a reliable system that aids airlines in proactive decision-making and assists passengers in managing their travel plans more effectively.\n",
        "\n",
        "The dataset used for this analysis contains historical flight data encompassing various attributes such as departure time, arrival time, carrier information, weather conditions, and airport congestion. We preprocess the data using PySpark's DataFrame API, handling missing values, encoding categorical variables, and performing feature engineering to extract meaningful insights.\n",
        "\n",
        "For the predictive modeling phase, we employ machine learning algorithms available in PySpark's MLlib library. Specifically, we explore decision tree classifiers, random forests, and gradient-boosted trees to identify the most effective approach for predicting flight delays. PySpark's distributed computing capabilities enable us to efficiently handle large-scale datasets and optimize model training and evaluation processes.\n",
        "\n",
        "To evaluate the performance of our models, we employ metrics such as accuracy, precision, recall, and F1-score. Additionally, we investigate the impact of feature selection, hyperparameter tuning, and ensemble techniques on the predictive accuracy of our models.\n",
        "\n",
        "The results of our study demonstrate the effectiveness of PySpark in building robust predictive models for flight delay prediction. By accurately forecasting flight delays, airlines can proactively manage resources, optimize schedules, and enhance customer satisfaction. Furthermore, passengers can make informed decisions, minimize inconvenience, and better plan their travel itineraries."
      ],
      "metadata": {
        "id": "XVaYQC4dFET3"
      }
    },
    {
      "cell_type": "markdown",
      "source": [
        "Installing pyspark"
      ],
      "metadata": {
        "id": "ZVVZLUXaEHVD"
      }
    },
    {
      "cell_type": "code",
      "source": [
        "!pip install pyspark"
      ],
      "metadata": {
        "colab": {
          "base_uri": "https://localhost:8080/"
        },
        "id": "28WXbQd52bqh",
        "outputId": "efb8b9fb-3139-42d6-aa3f-24caa3803070"
      },
      "execution_count": null,
      "outputs": [
        {
          "output_type": "stream",
          "name": "stdout",
          "text": [
            "Collecting pyspark\n",
            "  Downloading pyspark-3.5.1.tar.gz (317.0 MB)\n",
            "\u001b[2K     \u001b[90m━━━━━━━━━━━━━━━━━━━━━━━━━━━━━━━━━━━━━━━━\u001b[0m \u001b[32m317.0/317.0 MB\u001b[0m \u001b[31m1.7 MB/s\u001b[0m eta \u001b[36m0:00:00\u001b[0m\n",
            "\u001b[?25h  Preparing metadata (setup.py) ... \u001b[?25l\u001b[?25hdone\n",
            "Requirement already satisfied: py4j==0.10.9.7 in /usr/local/lib/python3.10/dist-packages (from pyspark) (0.10.9.7)\n",
            "Building wheels for collected packages: pyspark\n",
            "  Building wheel for pyspark (setup.py) ... \u001b[?25l\u001b[?25hdone\n",
            "  Created wheel for pyspark: filename=pyspark-3.5.1-py2.py3-none-any.whl size=317488491 sha256=8e3a915278ce718c3771cc4765e07cf2dcc64cf816c3326ca64bf6b5dbd4929b\n",
            "  Stored in directory: /root/.cache/pip/wheels/80/1d/60/2c256ed38dddce2fdd93be545214a63e02fbd8d74fb0b7f3a6\n",
            "Successfully built pyspark\n",
            "Installing collected packages: pyspark\n",
            "Successfully installed pyspark-3.5.1\n"
          ]
        }
      ]
    },
    {
      "cell_type": "markdown",
      "source": [
        "Creating a spark session"
      ],
      "metadata": {
        "id": "UnBa-DOBER7E"
      }
    },
    {
      "cell_type": "code",
      "source": [
        "from pyspark.sql import SparkSession\n",
        "spark = SparkSession.builder.appName(\"project\").getOrCreate()"
      ],
      "metadata": {
        "id": "DxgznCz45Dx9"
      },
      "execution_count": null,
      "outputs": []
    },
    {
      "cell_type": "markdown",
      "source": [
        "Importing the dataset"
      ],
      "metadata": {
        "id": "fvpusgqwEbY-"
      }
    },
    {
      "cell_type": "code",
      "source": [
        "df = spark.read.csv(\"/content/drive/MyDrive/airlines_delay.csv\", header=True, inferSchema=True)\n",
        "df.show()"
      ],
      "metadata": {
        "colab": {
          "base_uri": "https://localhost:8080/"
        },
        "id": "ap8_ZHgOLBOx",
        "outputId": "7a2fea04-6303-4926-f6d5-8b03ded20af1"
      },
      "execution_count": null,
      "outputs": [
        {
          "output_type": "stream",
          "name": "stdout",
          "text": [
            "+------+------+------+-------+-----------+---------+---------+-----+\n",
            "|Flight|  Time|Length|Airline|AirportFrom|AirportTo|DayOfWeek|Class|\n",
            "+------+------+------+-------+-----------+---------+---------+-----+\n",
            "|2313.0|1296.0| 141.0|     DL|        ATL|      HOU|        1|    0|\n",
            "|6948.0| 360.0| 146.0|     OO|        COS|      ORD|        4|    0|\n",
            "|1247.0|1170.0| 143.0|     B6|        BOS|      CLT|        3|    0|\n",
            "|  31.0|1410.0| 344.0|     US|        OGG|      PHX|        6|    0|\n",
            "| 563.0| 692.0|  98.0|     FL|        BMI|      ATL|        4|    0|\n",
            "|3692.0| 580.0|  60.0|     WN|        MSY|      BHM|        4|    0|\n",
            "|1135.0| 690.0| 239.0|     CO|        EWR|      DFW|        4|    0|\n",
            "|1300.0|1210.0|  80.0|     AA|        DFW|      MEM|        3|    0|\n",
            "| 587.0|1295.0| 105.0|     FL|        BWI|      GRR|        7|    0|\n",
            "| 764.0| 530.0| 108.0|     FL|        ATL|      PBI|        3|    0|\n",
            "|1147.0|1103.0| 121.0|     FL|        CRW|      MCO|        4|    0|\n",
            "|1440.0| 951.0|  79.0|     B6|        LGB|      SFO|        7|    0|\n",
            "|6605.0|1215.0| 102.0|     OO|        BIS|      DEN|        4|    0|\n",
            "|2670.0|1189.0| 110.0|     YV|        CLT|      MEM|        4|    0|\n",
            "|1015.0| 615.0| 142.0|     US|        IAH|      CLT|        4|    0|\n",
            "|7032.0| 771.0|  70.0|     OO|        LAX|      YUM|        2|    0|\n",
            "| 138.0| 948.0| 116.0|     FL|        JAX|      BWI|        5|    0|\n",
            "|5411.0| 966.0| 134.0|     EV|        ATL|      HPN|        7|    0|\n",
            "|2517.0|1160.0| 127.0|     XE|        SAV|      EWR|        4|    0|\n",
            "|3721.0| 750.0| 119.0|     9E|        CLE|      JFK|        1|    0|\n",
            "+------+------+------+-------+-----------+---------+---------+-----+\n",
            "only showing top 20 rows\n",
            "\n"
          ]
        }
      ]
    },
    {
      "cell_type": "code",
      "source": [
        "from google.colab import drive\n",
        "drive.mount('/content/drive')"
      ],
      "metadata": {
        "colab": {
          "base_uri": "https://localhost:8080/"
        },
        "id": "tbc2yO8k2xMo",
        "outputId": "0ad83563-795e-4405-98da-c1e23c3ca6c4"
      },
      "execution_count": null,
      "outputs": [
        {
          "output_type": "stream",
          "name": "stdout",
          "text": [
            "Mounted at /content/drive\n"
          ]
        }
      ]
    },
    {
      "cell_type": "code",
      "source": [
        "df.printSchema()"
      ],
      "metadata": {
        "colab": {
          "base_uri": "https://localhost:8080/"
        },
        "id": "Eh4ARF9gLBLX",
        "outputId": "a5fbbd38-5ed4-47e8-bb55-6cec92d9fa38"
      },
      "execution_count": null,
      "outputs": [
        {
          "output_type": "stream",
          "name": "stdout",
          "text": [
            "root\n",
            " |-- Flight: double (nullable = true)\n",
            " |-- Time: double (nullable = true)\n",
            " |-- Length: double (nullable = true)\n",
            " |-- Airline: string (nullable = true)\n",
            " |-- AirportFrom: string (nullable = true)\n",
            " |-- AirportTo: string (nullable = true)\n",
            " |-- DayOfWeek: integer (nullable = true)\n",
            " |-- Class: integer (nullable = true)\n",
            "\n"
          ]
        }
      ]
    },
    {
      "cell_type": "markdown",
      "source": [
        "Action"
      ],
      "metadata": {
        "id": "l4EAchxIGFM9"
      }
    },
    {
      "cell_type": "code",
      "source": [
        "df.count()"
      ],
      "metadata": {
        "colab": {
          "base_uri": "https://localhost:8080/"
        },
        "id": "D-mVzzuWLBGf",
        "outputId": "75ba38cf-48ad-48a9-c7d4-bf7bbd5d7698"
      },
      "execution_count": null,
      "outputs": [
        {
          "output_type": "execute_result",
          "data": {
            "text/plain": [
              "539382"
            ]
          },
          "metadata": {},
          "execution_count": 8
        }
      ]
    },
    {
      "cell_type": "code",
      "source": [
        "first_line = df.first()\n",
        "print(f\"First Line: {first_line}\")"
      ],
      "metadata": {
        "colab": {
          "base_uri": "https://localhost:8080/"
        },
        "id": "LLmgcuzwGKVo",
        "outputId": "410c3daa-4744-403d-f4be-0a2492e68b42"
      },
      "execution_count": null,
      "outputs": [
        {
          "output_type": "stream",
          "name": "stdout",
          "text": [
            "First Line: Row(Flight=2313.0, Time=1296.0, Length=141.0, Airline='DL', AirportFrom='ATL', AirportTo='HOU', DayOfWeek=1, Class=0)\n"
          ]
        }
      ]
    },
    {
      "cell_type": "code",
      "source": [
        "df.columns"
      ],
      "metadata": {
        "colab": {
          "base_uri": "https://localhost:8080/"
        },
        "id": "Z52uYFZGLBCv",
        "outputId": "0a22dc63-67d6-40cf-b0e8-1c13f9eec87e"
      },
      "execution_count": null,
      "outputs": [
        {
          "output_type": "execute_result",
          "data": {
            "text/plain": [
              "['Flight',\n",
              " 'Time',\n",
              " 'Length',\n",
              " 'Airline',\n",
              " 'AirportFrom',\n",
              " 'AirportTo',\n",
              " 'DayOfWeek',\n",
              " 'Class']"
            ]
          },
          "metadata": {},
          "execution_count": 9
        }
      ]
    },
    {
      "cell_type": "code",
      "source": [
        "df.na.drop()"
      ],
      "metadata": {
        "colab": {
          "base_uri": "https://localhost:8080/"
        },
        "id": "WBbCLkqvLY_H",
        "outputId": "d25216c1-d999-451d-f158-bcba6ac46851"
      },
      "execution_count": null,
      "outputs": [
        {
          "output_type": "execute_result",
          "data": {
            "text/plain": [
              "DataFrame[Flight: double, Time: double, Length: double, Airline: string, AirportFrom: string, AirportTo: string, DayOfWeek: int, Class: int]"
            ]
          },
          "metadata": {},
          "execution_count": 10
        }
      ]
    },
    {
      "cell_type": "code",
      "source": [
        "df.count()"
      ],
      "metadata": {
        "colab": {
          "base_uri": "https://localhost:8080/"
        },
        "id": "YI0s8NlVLY7-",
        "outputId": "048946de-3c06-439e-91b5-341d409ab8f4"
      },
      "execution_count": null,
      "outputs": [
        {
          "output_type": "execute_result",
          "data": {
            "text/plain": [
              "539382"
            ]
          },
          "metadata": {},
          "execution_count": 11
        }
      ]
    },
    {
      "cell_type": "markdown",
      "source": [
        "Transformation"
      ],
      "metadata": {
        "id": "JrPw7-ytEhih"
      }
    },
    {
      "cell_type": "code",
      "source": [
        "filtered_df = df.filter(df[\"Class\"] ==0)\n",
        "filtered_df"
      ],
      "metadata": {
        "colab": {
          "base_uri": "https://localhost:8080/"
        },
        "id": "a_Ep9SkdGUr2",
        "outputId": "5360aec0-e6d9-49ae-d995-b5fea3495ff3"
      },
      "execution_count": null,
      "outputs": [
        {
          "output_type": "execute_result",
          "data": {
            "text/plain": [
              "DataFrame[Flight: double, Time: double, Length: double, Airline: string, AirportFrom: string, AirportTo: string, DayOfWeek: int, Class: int]"
            ]
          },
          "metadata": {},
          "execution_count": 60
        }
      ]
    },
    {
      "cell_type": "code",
      "source": [
        "df.groupBy(\"Class\").count().show()"
      ],
      "metadata": {
        "colab": {
          "base_uri": "https://localhost:8080/"
        },
        "id": "d-O4qerY58ty",
        "outputId": "a2603a3c-691c-4fc1-dcdb-e0a12aec63bc"
      },
      "execution_count": null,
      "outputs": [
        {
          "output_type": "stream",
          "name": "stdout",
          "text": [
            "+-----+------+\n",
            "|Class| count|\n",
            "+-----+------+\n",
            "|    1|240264|\n",
            "|    0|299118|\n",
            "+-----+------+\n",
            "\n"
          ]
        }
      ]
    },
    {
      "cell_type": "code",
      "source": [
        "df.select(\"Class\").distinct().show()"
      ],
      "metadata": {
        "colab": {
          "base_uri": "https://localhost:8080/"
        },
        "id": "QuOEL_Cj6aX1",
        "outputId": "e3ac4b12-d2c6-4f9d-c243-722422c3e624"
      },
      "execution_count": null,
      "outputs": [
        {
          "output_type": "stream",
          "name": "stdout",
          "text": [
            "+-----+\n",
            "|Class|\n",
            "+-----+\n",
            "|    1|\n",
            "|    0|\n",
            "+-----+\n",
            "\n"
          ]
        }
      ]
    },
    {
      "cell_type": "markdown",
      "source": [
        "Importing necessary libraries"
      ],
      "metadata": {
        "id": "bbLAMoOyEkXh"
      }
    },
    {
      "cell_type": "code",
      "source": [
        "from pyspark.ml.feature import VectorAssembler\n",
        "from pyspark.ml.feature import IndexToString,StringIndexer"
      ],
      "metadata": {
        "id": "MgYvDGiaLY5W"
      },
      "execution_count": null,
      "outputs": []
    },
    {
      "cell_type": "markdown",
      "source": [
        "StringIndexer:Handling categorical variables or strings by converting them into numerical indices."
      ],
      "metadata": {
        "id": "hwNflRM3FUNM"
      }
    },
    {
      "cell_type": "code",
      "source": [
        "indexer=StringIndexer(inputCols=[\"Airline\",\"AirportFrom\",\"AirportTo\"],outputCols=[\"Airline1\",\"AirportFrom1\",\"AirportTo1\"])\n",
        "indexed=indexer.fit(df).transform(df)\n",
        "indexed.show()"
      ],
      "metadata": {
        "colab": {
          "base_uri": "https://localhost:8080/"
        },
        "id": "EDq2VZmZLY2u",
        "outputId": "f552210e-8650-4ab2-9b99-618ed1be2c7a"
      },
      "execution_count": null,
      "outputs": [
        {
          "output_type": "stream",
          "name": "stdout",
          "text": [
            "+------+------+------+-------+-----------+---------+---------+-----+--------+------------+----------+\n",
            "|Flight|  Time|Length|Airline|AirportFrom|AirportTo|DayOfWeek|Class|Airline1|AirportFrom1|AirportTo1|\n",
            "+------+------+------+-------+-----------+---------+---------+-----+--------+------------+----------+\n",
            "|2313.0|1296.0| 141.0|     DL|        ATL|      HOU|        1|    0|     1.0|         0.0|      33.0|\n",
            "|6948.0| 360.0| 146.0|     OO|        COS|      ORD|        4|    0|     2.0|        82.0|       1.0|\n",
            "|1247.0|1170.0| 143.0|     B6|        BOS|      CLT|        3|    0|    12.0|        16.0|      10.0|\n",
            "|  31.0|1410.0| 344.0|     US|        OGG|      PHX|        6|    0|     5.0|        63.0|       6.0|\n",
            "| 563.0| 692.0|  98.0|     FL|        BMI|      ATL|        4|    0|    10.0|       139.0|       0.0|\n",
            "|3692.0| 580.0|  60.0|     WN|        MSY|      BHM|        4|    0|     0.0|        44.0|      64.0|\n",
            "|1135.0| 690.0| 239.0|     CO|        EWR|      DFW|        4|    0|     9.0|        14.0|       2.0|\n",
            "|1300.0|1210.0|  80.0|     AA|        DFW|      MEM|        3|    0|     3.0|         2.0|      25.0|\n",
            "| 587.0|1295.0| 105.0|     FL|        BWI|      GRR|        7|    0|    10.0|        17.0|      84.0|\n",
            "| 764.0| 530.0| 108.0|     FL|        ATL|      PBI|        3|    0|    10.0|         0.0|      53.0|\n",
            "|1147.0|1103.0| 121.0|     FL|        CRW|      MCO|        4|    0|    10.0|       141.0|      11.0|\n",
            "|1440.0| 951.0|  79.0|     B6|        LGB|      SFO|        7|    0|    12.0|        78.0|       9.0|\n",
            "|6605.0|1215.0| 102.0|     OO|        BIS|      DEN|        4|    0|     2.0|       153.0|       3.0|\n",
            "|2670.0|1189.0| 110.0|     YV|        CLT|      MEM|        4|    0|    13.0|        10.0|      25.0|\n",
            "|1015.0| 615.0| 142.0|     US|        IAH|      CLT|        4|    0|     5.0|         5.0|      10.0|\n",
            "|7032.0| 771.0|  70.0|     OO|        LAX|      YUM|        2|    0|     2.0|         4.0|     150.0|\n",
            "| 138.0| 948.0| 116.0|     FL|        JAX|      BWI|        5|    0|    10.0|        50.0|      17.0|\n",
            "|5411.0| 966.0| 134.0|     EV|        ATL|      HPN|        7|    0|     7.0|         0.0|      97.0|\n",
            "|2517.0|1160.0| 127.0|     XE|        SAV|      EWR|        4|    0|     6.0|       101.0|      14.0|\n",
            "|3721.0| 750.0| 119.0|     9E|        CLE|      JFK|        1|    0|    11.0|        30.0|      15.0|\n",
            "+------+------+------+-------+-----------+---------+---------+-----+--------+------------+----------+\n",
            "only showing top 20 rows\n",
            "\n"
          ]
        }
      ]
    },
    {
      "cell_type": "code",
      "source": [
        "indexed.printSchema()"
      ],
      "metadata": {
        "colab": {
          "base_uri": "https://localhost:8080/"
        },
        "id": "nRe_C_koNhuH",
        "outputId": "f4df1c05-5b09-4315-c0f7-8911c234c2cb"
      },
      "execution_count": null,
      "outputs": [
        {
          "output_type": "stream",
          "name": "stdout",
          "text": [
            "root\n",
            " |-- Flight: double (nullable = true)\n",
            " |-- Time: double (nullable = true)\n",
            " |-- Length: double (nullable = true)\n",
            " |-- Airline: string (nullable = true)\n",
            " |-- AirportFrom: string (nullable = true)\n",
            " |-- AirportTo: string (nullable = true)\n",
            " |-- DayOfWeek: integer (nullable = true)\n",
            " |-- Class: integer (nullable = true)\n",
            " |-- Airline1: double (nullable = false)\n",
            " |-- AirportFrom1: double (nullable = false)\n",
            " |-- AirportTo1: double (nullable = false)\n",
            "\n"
          ]
        }
      ]
    },
    {
      "cell_type": "code",
      "source": [
        "indexed.columns"
      ],
      "metadata": {
        "colab": {
          "base_uri": "https://localhost:8080/"
        },
        "id": "Ahw5t2z2Njz_",
        "outputId": "928085b5-decc-4b72-df5e-0409978698df"
      },
      "execution_count": null,
      "outputs": [
        {
          "output_type": "execute_result",
          "data": {
            "text/plain": [
              "['Flight',\n",
              " 'Time',\n",
              " 'Length',\n",
              " 'Airline',\n",
              " 'AirportFrom',\n",
              " 'AirportTo',\n",
              " 'DayOfWeek',\n",
              " 'Class',\n",
              " 'Airline1',\n",
              " 'AirportFrom1',\n",
              " 'AirportTo1']"
            ]
          },
          "metadata": {},
          "execution_count": 15
        }
      ]
    },
    {
      "cell_type": "code",
      "source": [
        "assembler=VectorAssembler(inputCols=['Flight','Time','Length','DayOfWeek','Airline1','AirportFrom1','AirportTo1'],outputCol='features')"
      ],
      "metadata": {
        "id": "Y9vrBGKnLY0J"
      },
      "execution_count": null,
      "outputs": []
    },
    {
      "cell_type": "code",
      "source": [
        "output=assembler.transform(indexed)"
      ],
      "metadata": {
        "id": "QMgomjL4LYxP"
      },
      "execution_count": null,
      "outputs": []
    },
    {
      "cell_type": "code",
      "source": [
        "output.printSchema()"
      ],
      "metadata": {
        "colab": {
          "base_uri": "https://localhost:8080/"
        },
        "id": "RYYK3BS1LYuO",
        "outputId": "351cb479-9e4e-4636-8dd3-a29e3dd05958"
      },
      "execution_count": null,
      "outputs": [
        {
          "output_type": "stream",
          "name": "stdout",
          "text": [
            "root\n",
            " |-- Flight: double (nullable = true)\n",
            " |-- Time: double (nullable = true)\n",
            " |-- Length: double (nullable = true)\n",
            " |-- Airline: string (nullable = true)\n",
            " |-- AirportFrom: string (nullable = true)\n",
            " |-- AirportTo: string (nullable = true)\n",
            " |-- DayOfWeek: integer (nullable = true)\n",
            " |-- Class: integer (nullable = true)\n",
            " |-- Airline1: double (nullable = false)\n",
            " |-- AirportFrom1: double (nullable = false)\n",
            " |-- AirportTo1: double (nullable = false)\n",
            " |-- features: vector (nullable = true)\n",
            "\n"
          ]
        }
      ]
    },
    {
      "cell_type": "code",
      "source": [
        "output.show()"
      ],
      "metadata": {
        "colab": {
          "base_uri": "https://localhost:8080/"
        },
        "id": "PjREqx-MLYrP",
        "outputId": "27565743-5408-435c-d23a-51bfb42421e8"
      },
      "execution_count": null,
      "outputs": [
        {
          "output_type": "stream",
          "name": "stdout",
          "text": [
            "+------+------+------+-------+-----------+---------+---------+-----+--------+------------+----------+--------------------+\n",
            "|Flight|  Time|Length|Airline|AirportFrom|AirportTo|DayOfWeek|Class|Airline1|AirportFrom1|AirportTo1|            features|\n",
            "+------+------+------+-------+-----------+---------+---------+-----+--------+------------+----------+--------------------+\n",
            "|2313.0|1296.0| 141.0|     DL|        ATL|      HOU|        1|    0|     1.0|         0.0|      33.0|[2313.0,1296.0,14...|\n",
            "|6948.0| 360.0| 146.0|     OO|        COS|      ORD|        4|    0|     2.0|        82.0|       1.0|[6948.0,360.0,146...|\n",
            "|1247.0|1170.0| 143.0|     B6|        BOS|      CLT|        3|    0|    12.0|        16.0|      10.0|[1247.0,1170.0,14...|\n",
            "|  31.0|1410.0| 344.0|     US|        OGG|      PHX|        6|    0|     5.0|        63.0|       6.0|[31.0,1410.0,344....|\n",
            "| 563.0| 692.0|  98.0|     FL|        BMI|      ATL|        4|    0|    10.0|       139.0|       0.0|[563.0,692.0,98.0...|\n",
            "|3692.0| 580.0|  60.0|     WN|        MSY|      BHM|        4|    0|     0.0|        44.0|      64.0|[3692.0,580.0,60....|\n",
            "|1135.0| 690.0| 239.0|     CO|        EWR|      DFW|        4|    0|     9.0|        14.0|       2.0|[1135.0,690.0,239...|\n",
            "|1300.0|1210.0|  80.0|     AA|        DFW|      MEM|        3|    0|     3.0|         2.0|      25.0|[1300.0,1210.0,80...|\n",
            "| 587.0|1295.0| 105.0|     FL|        BWI|      GRR|        7|    0|    10.0|        17.0|      84.0|[587.0,1295.0,105...|\n",
            "| 764.0| 530.0| 108.0|     FL|        ATL|      PBI|        3|    0|    10.0|         0.0|      53.0|[764.0,530.0,108....|\n",
            "|1147.0|1103.0| 121.0|     FL|        CRW|      MCO|        4|    0|    10.0|       141.0|      11.0|[1147.0,1103.0,12...|\n",
            "|1440.0| 951.0|  79.0|     B6|        LGB|      SFO|        7|    0|    12.0|        78.0|       9.0|[1440.0,951.0,79....|\n",
            "|6605.0|1215.0| 102.0|     OO|        BIS|      DEN|        4|    0|     2.0|       153.0|       3.0|[6605.0,1215.0,10...|\n",
            "|2670.0|1189.0| 110.0|     YV|        CLT|      MEM|        4|    0|    13.0|        10.0|      25.0|[2670.0,1189.0,11...|\n",
            "|1015.0| 615.0| 142.0|     US|        IAH|      CLT|        4|    0|     5.0|         5.0|      10.0|[1015.0,615.0,142...|\n",
            "|7032.0| 771.0|  70.0|     OO|        LAX|      YUM|        2|    0|     2.0|         4.0|     150.0|[7032.0,771.0,70....|\n",
            "| 138.0| 948.0| 116.0|     FL|        JAX|      BWI|        5|    0|    10.0|        50.0|      17.0|[138.0,948.0,116....|\n",
            "|5411.0| 966.0| 134.0|     EV|        ATL|      HPN|        7|    0|     7.0|         0.0|      97.0|[5411.0,966.0,134...|\n",
            "|2517.0|1160.0| 127.0|     XE|        SAV|      EWR|        4|    0|     6.0|       101.0|      14.0|[2517.0,1160.0,12...|\n",
            "|3721.0| 750.0| 119.0|     9E|        CLE|      JFK|        1|    0|    11.0|        30.0|      15.0|[3721.0,750.0,119...|\n",
            "+------+------+------+-------+-----------+---------+---------+-----+--------+------------+----------+--------------------+\n",
            "only showing top 20 rows\n",
            "\n"
          ]
        }
      ]
    },
    {
      "cell_type": "code",
      "source": [
        "print(output.select(\"features\").show())"
      ],
      "metadata": {
        "colab": {
          "base_uri": "https://localhost:8080/"
        },
        "id": "uD6yepIbLYoP",
        "outputId": "19b153f0-a454-4330-89c8-a1400659b010"
      },
      "execution_count": null,
      "outputs": [
        {
          "output_type": "stream",
          "name": "stdout",
          "text": [
            "+--------------------+\n",
            "|            features|\n",
            "+--------------------+\n",
            "|[2313.0,1296.0,14...|\n",
            "|[6948.0,360.0,146...|\n",
            "|[1247.0,1170.0,14...|\n",
            "|[31.0,1410.0,344....|\n",
            "|[563.0,692.0,98.0...|\n",
            "|[3692.0,580.0,60....|\n",
            "|[1135.0,690.0,239...|\n",
            "|[1300.0,1210.0,80...|\n",
            "|[587.0,1295.0,105...|\n",
            "|[764.0,530.0,108....|\n",
            "|[1147.0,1103.0,12...|\n",
            "|[1440.0,951.0,79....|\n",
            "|[6605.0,1215.0,10...|\n",
            "|[2670.0,1189.0,11...|\n",
            "|[1015.0,615.0,142...|\n",
            "|[7032.0,771.0,70....|\n",
            "|[138.0,948.0,116....|\n",
            "|[5411.0,966.0,134...|\n",
            "|[2517.0,1160.0,12...|\n",
            "|[3721.0,750.0,119...|\n",
            "+--------------------+\n",
            "only showing top 20 rows\n",
            "\n",
            "None\n"
          ]
        }
      ]
    },
    {
      "cell_type": "code",
      "source": [
        "final_data=output.select('features','Class')\n",
        "final_data.show()"
      ],
      "metadata": {
        "colab": {
          "base_uri": "https://localhost:8080/"
        },
        "id": "LnfQ4NJlLYlv",
        "outputId": "22cf5cab-3a67-47b9-ff39-faafeb601779"
      },
      "execution_count": null,
      "outputs": [
        {
          "output_type": "stream",
          "name": "stdout",
          "text": [
            "+--------------------+-----+\n",
            "|            features|Class|\n",
            "+--------------------+-----+\n",
            "|[2313.0,1296.0,14...|    0|\n",
            "|[6948.0,360.0,146...|    0|\n",
            "|[1247.0,1170.0,14...|    0|\n",
            "|[31.0,1410.0,344....|    0|\n",
            "|[563.0,692.0,98.0...|    0|\n",
            "|[3692.0,580.0,60....|    0|\n",
            "|[1135.0,690.0,239...|    0|\n",
            "|[1300.0,1210.0,80...|    0|\n",
            "|[587.0,1295.0,105...|    0|\n",
            "|[764.0,530.0,108....|    0|\n",
            "|[1147.0,1103.0,12...|    0|\n",
            "|[1440.0,951.0,79....|    0|\n",
            "|[6605.0,1215.0,10...|    0|\n",
            "|[2670.0,1189.0,11...|    0|\n",
            "|[1015.0,615.0,142...|    0|\n",
            "|[7032.0,771.0,70....|    0|\n",
            "|[138.0,948.0,116....|    0|\n",
            "|[5411.0,966.0,134...|    0|\n",
            "|[2517.0,1160.0,12...|    0|\n",
            "|[3721.0,750.0,119...|    0|\n",
            "+--------------------+-----+\n",
            "only showing top 20 rows\n",
            "\n"
          ]
        }
      ]
    },
    {
      "cell_type": "markdown",
      "source": [
        "Train and test split"
      ],
      "metadata": {
        "id": "vDhS1q5kFoXO"
      }
    },
    {
      "cell_type": "code",
      "source": [
        "train_data,test_data=final_data.randomSplit([0.7,0.3])"
      ],
      "metadata": {
        "id": "Sf339E38N3m_"
      },
      "execution_count": null,
      "outputs": []
    },
    {
      "cell_type": "code",
      "source": [
        "train_data.describe().show()"
      ],
      "metadata": {
        "colab": {
          "base_uri": "https://localhost:8080/"
        },
        "id": "weGskn8zN3kK",
        "outputId": "703de836-2e47-4016-d1ba-1584a6ed29cc"
      },
      "execution_count": null,
      "outputs": [
        {
          "output_type": "stream",
          "name": "stdout",
          "text": [
            "+-------+-------------------+\n",
            "|summary|              Class|\n",
            "+-------+-------------------+\n",
            "|  count|             376479|\n",
            "|   mean|0.44560254356816714|\n",
            "| stddev| 0.4970327684602537|\n",
            "|    min|                  0|\n",
            "|    max|                  1|\n",
            "+-------+-------------------+\n",
            "\n"
          ]
        }
      ]
    },
    {
      "cell_type": "code",
      "source": [
        "test_data.describe().show()"
      ],
      "metadata": {
        "colab": {
          "base_uri": "https://localhost:8080/"
        },
        "id": "JhapArrYN3hP",
        "outputId": "380cea2c-a130-45a7-c3bc-7535870d08ac"
      },
      "execution_count": null,
      "outputs": [
        {
          "output_type": "stream",
          "name": "stdout",
          "text": [
            "+-------+------------------+\n",
            "|summary|             Class|\n",
            "+-------+------------------+\n",
            "|  count|            162903|\n",
            "|   mean|0.4450746763411355|\n",
            "| stddev| 0.496975577837512|\n",
            "|    min|                 0|\n",
            "|    max|                 1|\n",
            "+-------+------------------+\n",
            "\n"
          ]
        }
      ]
    },
    {
      "cell_type": "markdown",
      "source": [
        "BinaryClassificationEvaluator and MulticlassClassificationEvaluator are classes available in PySpark's ml.evaluation module used for evaluating the performance of binary and multiclass classification models, respectively."
      ],
      "metadata": {
        "id": "yPIitXifFt71"
      }
    },
    {
      "cell_type": "code",
      "source": [
        "from pyspark.ml.evaluation import BinaryClassificationEvaluator,MulticlassClassificationEvaluator\n",
        "binaryEvaluator=BinaryClassificationEvaluator(rawPredictionCol='prediction',labelCol='Class')"
      ],
      "metadata": {
        "id": "Tgd9GopiN3eW"
      },
      "execution_count": null,
      "outputs": []
    },
    {
      "cell_type": "markdown",
      "source": [
        "Logistic Regression"
      ],
      "metadata": {
        "id": "726BqQcfF29N"
      }
    },
    {
      "cell_type": "code",
      "source": [
        "from pyspark.ml.classification import LogisticRegression\n",
        "classifier=LogisticRegression(maxIter=100,regParam=0.1,threshold=0.4,tol=1e-6,elasticNetParam=0.2,labelCol='Class',featuresCol='features')\n",
        "model=classifier.fit(train_data)"
      ],
      "metadata": {
        "id": "zEPaMX12N3bo"
      },
      "execution_count": null,
      "outputs": []
    },
    {
      "cell_type": "code",
      "source": [
        "pred_data=model.transform(test_data)\n",
        "pred_data.show(100,False)"
      ],
      "metadata": {
        "colab": {
          "base_uri": "https://localhost:8080/"
        },
        "id": "Lm-pd1jUN3Yg",
        "outputId": "eae5c549-f4b6-4f6a-b78d-88641f1a318e"
      },
      "execution_count": null,
      "outputs": [
        {
          "output_type": "stream",
          "name": "stdout",
          "text": [
            "+------------------------------------+-----+------------------------------------------+----------------------------------------+----------+\n",
            "|features                            |Class|rawPrediction                             |probability                             |prediction|\n",
            "+------------------------------------+-----+------------------------------------------+----------------------------------------+----------+\n",
            "|[1.0,420.0,60.0,1.0,0.0,39.0,33.0]  |0    |[0.24510428910128215,-0.24510428910128215]|[0.5609711350707566,0.4390288649292434] |1.0       |\n",
            "|[1.0,420.0,60.0,1.0,0.0,39.0,33.0]  |1    |[0.24510428910128215,-0.24510428910128215]|[0.5609711350707566,0.4390288649292434] |1.0       |\n",
            "|[1.0,420.0,60.0,3.0,0.0,39.0,33.0]  |1    |[0.24510428910128215,-0.24510428910128215]|[0.5609711350707566,0.4390288649292434] |1.0       |\n",
            "|[1.0,420.0,60.0,3.0,0.0,39.0,33.0]  |1    |[0.24510428910128215,-0.24510428910128215]|[0.5609711350707566,0.4390288649292434] |1.0       |\n",
            "|[1.0,420.0,60.0,5.0,0.0,39.0,33.0]  |0    |[0.24510428910128215,-0.24510428910128215]|[0.5609711350707566,0.4390288649292434] |1.0       |\n",
            "|[1.0,480.0,355.0,4.0,15.0,22.0,19.0]|1    |[0.7743160535341118,-0.7743160535341118]  |[0.684453802396741,0.31554619760325897] |0.0       |\n",
            "|[1.0,480.0,355.0,7.0,15.0,22.0,19.0]|0    |[0.7743160535341118,-0.7743160535341118]  |[0.684453802396741,0.31554619760325897] |0.0       |\n",
            "|[1.0,480.0,360.0,1.0,15.0,22.0,19.0]|0    |[0.7739071437036611,-0.7739071437036611]  |[0.6843654807017749,0.31563451929822506]|0.0       |\n",
            "|[1.0,485.0,187.0,1.0,12.0,15.0,28.0]|1    |[0.6629977218354899,-0.6629977218354899]  |[0.6599334632370512,0.34006653676294885]|0.0       |\n",
            "|[1.0,485.0,187.0,1.0,12.0,15.0,28.0]|1    |[0.6629977218354899,-0.6629977218354899]  |[0.6599334632370512,0.34006653676294885]|0.0       |\n",
            "|[1.0,485.0,187.0,3.0,12.0,15.0,28.0]|1    |[0.6629977218354899,-0.6629977218354899]  |[0.6599334632370512,0.34006653676294885]|0.0       |\n",
            "|[1.0,485.0,187.0,5.0,12.0,15.0,28.0]|1    |[0.6629977218354899,-0.6629977218354899]  |[0.6599334632370512,0.34006653676294885]|0.0       |\n",
            "|[1.0,485.0,187.0,6.0,12.0,15.0,28.0]|0    |[0.6629977218354899,-0.6629977218354899]  |[0.6599334632370512,0.34006653676294885]|0.0       |\n",
            "|[1.0,485.0,187.0,7.0,12.0,15.0,28.0]|1    |[0.6629977218354899,-0.6629977218354899]  |[0.6599334632370512,0.34006653676294885]|0.0       |\n",
            "|[1.0,500.0,50.0,1.0,0.0,33.0,104.0] |0    |[0.19539600970681947,-0.19539600970681947]|[0.5486941739120322,0.45130582608796777]|1.0       |\n",
            "|[1.0,500.0,50.0,1.0,0.0,33.0,104.0] |0    |[0.19539600970681947,-0.19539600970681947]|[0.5486941739120322,0.45130582608796777]|1.0       |\n",
            "|[1.0,500.0,50.0,2.0,0.0,33.0,104.0] |0    |[0.19539600970681947,-0.19539600970681947]|[0.5486941739120322,0.45130582608796777]|1.0       |\n",
            "|[1.0,500.0,50.0,3.0,0.0,33.0,104.0] |1    |[0.19539600970681947,-0.19539600970681947]|[0.5486941739120322,0.45130582608796777]|1.0       |\n",
            "|[1.0,500.0,60.0,1.0,0.0,33.0,137.0] |1    |[0.19457819004591792,-0.19457819004591792]|[0.5484916500936365,0.45150834990636346]|1.0       |\n",
            "|[1.0,525.0,198.0,4.0,5.0,6.0,1.0]   |1    |[0.35618903067990093,-0.35618903067990093]|[0.5881175938205939,0.4118824061794061] |1.0       |\n",
            "|[1.0,525.0,198.0,5.0,5.0,6.0,1.0]   |1    |[0.35618903067990093,-0.35618903067990093]|[0.5881175938205939,0.4118824061794061] |1.0       |\n",
            "|[1.0,540.0,350.0,2.0,17.0,4.0,32.0] |0    |[0.8109235603046934,-0.8109235603046934]  |[0.6923062744785469,0.30769372552145313]|0.0       |\n",
            "|[1.0,540.0,350.0,4.0,17.0,4.0,32.0] |1    |[0.8109235603046934,-0.8109235603046934]  |[0.6923062744785469,0.30769372552145313]|0.0       |\n",
            "|[1.0,540.0,350.0,4.0,17.0,4.0,32.0] |1    |[0.8109235603046934,-0.8109235603046934]  |[0.6923062744785469,0.30769372552145313]|0.0       |\n",
            "|[1.0,540.0,350.0,7.0,17.0,4.0,32.0] |1    |[0.8109235603046934,-0.8109235603046934]  |[0.6923062744785469,0.30769372552145313]|0.0       |\n",
            "|[1.0,550.0,385.0,3.0,3.0,15.0,4.0]  |1    |[0.24996224284282004,-0.24996224284282004]|[0.5621672075407328,0.4378327924592672] |1.0       |\n",
            "|[1.0,550.0,385.0,4.0,3.0,15.0,4.0]  |1    |[0.24996224284282004,-0.24996224284282004]|[0.5621672075407328,0.4378327924592672] |1.0       |\n",
            "|[1.0,550.0,385.0,7.0,3.0,15.0,4.0]  |0    |[0.24996224284282004,-0.24996224284282004]|[0.5621672075407328,0.4378327924592672] |1.0       |\n",
            "|[1.0,550.0,385.0,7.0,3.0,15.0,4.0]  |0    |[0.24996224284282004,-0.24996224284282004]|[0.5621672075407328,0.4378327924592672] |1.0       |\n",
            "|[1.0,565.0,505.0,2.0,9.0,5.0,32.0]  |1    |[0.46561611974441575,-0.46561611974441575]|[0.6143456272751816,0.3856543727248184] |0.0       |\n",
            "|[1.0,565.0,505.0,4.0,9.0,5.0,32.0]  |1    |[0.46561611974441575,-0.46561611974441575]|[0.6143456272751816,0.3856543727248184] |0.0       |\n",
            "|[1.0,565.0,505.0,6.0,9.0,5.0,32.0]  |1    |[0.46561611974441575,-0.46561611974441575]|[0.6143456272751816,0.3856543727248184] |0.0       |\n",
            "|[1.0,595.0,549.0,1.0,8.0,1.0,32.0]  |1    |[0.4026206574539012,-0.4026206574539012]  |[0.5993171380666834,0.4006828619333166] |1.0       |\n",
            "|[1.0,595.0,549.0,3.0,8.0,1.0,32.0]  |0    |[0.4026206574539012,-0.4026206574539012]  |[0.5993171380666834,0.4006828619333166] |1.0       |\n",
            "|[1.0,595.0,549.0,4.0,8.0,1.0,32.0]  |0    |[0.4026206574539012,-0.4026206574539012]  |[0.5993171380666834,0.4006828619333166] |1.0       |\n",
            "|[1.0,595.0,549.0,4.0,8.0,1.0,32.0]  |1    |[0.4026206574539012,-0.4026206574539012]  |[0.5993171380666834,0.4006828619333166] |1.0       |\n",
            "|[1.0,595.0,549.0,6.0,8.0,1.0,32.0]  |0    |[0.4026206574539012,-0.4026206574539012]  |[0.5993171380666834,0.4006828619333166] |1.0       |\n",
            "|[1.0,595.0,549.0,7.0,8.0,1.0,32.0]  |1    |[0.4026206574539012,-0.4026206574539012]  |[0.5993171380666834,0.4006828619333166] |1.0       |\n",
            "|[1.0,650.0,310.0,2.0,1.0,8.0,15.0]  |1    |[0.11364022709902016,-0.11364022709902016]|[0.5283795220113251,0.4716204779886749] |1.0       |\n",
            "|[1.0,650.0,310.0,3.0,1.0,8.0,15.0]  |0    |[0.11364022709902016,-0.11364022709902016]|[0.5283795220113251,0.4716204779886749] |1.0       |\n",
            "|[1.0,650.0,310.0,4.0,1.0,8.0,15.0]  |0    |[0.11364022709902016,-0.11364022709902016]|[0.5283795220113251,0.4716204779886749] |1.0       |\n",
            "|[1.0,650.0,310.0,6.0,1.0,8.0,15.0]  |0    |[0.11364022709902016,-0.11364022709902016]|[0.5283795220113251,0.4716204779886749] |1.0       |\n",
            "|[1.0,920.0,465.0,3.0,9.0,32.0,290.0]|1    |[0.2661479149473648,-0.2661479149473648]  |[0.5661469803987423,0.43385301960125766]|1.0       |\n",
            "|[1.0,920.0,465.0,4.0,9.0,32.0,290.0]|0    |[0.2661479149473648,-0.2661479149473648]  |[0.5661469803987423,0.43385301960125766]|1.0       |\n",
            "|[1.0,920.0,465.0,4.0,9.0,32.0,290.0]|1    |[0.2661479149473648,-0.2661479149473648]  |[0.5661469803987423,0.43385301960125766]|1.0       |\n",
            "|[2.0,300.0,228.0,1.0,5.0,1.0,6.0]   |0    |[0.487086168929658,-0.487086168929658]    |[0.6194197683802846,0.38058023161971544]|0.0       |\n",
            "|[2.0,300.0,228.0,5.0,5.0,1.0,6.0]   |0    |[0.487086168929658,-0.487086168929658]    |[0.6194197683802846,0.38058023161971544]|0.0       |\n",
            "|[2.0,300.0,228.0,6.0,5.0,1.0,6.0]   |1    |[0.487086168929658,-0.487086168929658]    |[0.6194197683802846,0.38058023161971544]|0.0       |\n",
            "|[2.0,390.0,55.0,2.0,0.0,33.0,39.0]  |0    |[0.2611615319121052,-0.2611615319121052]  |[0.564921800607426,0.43507819939257397] |1.0       |\n",
            "|[2.0,390.0,55.0,4.0,0.0,33.0,39.0]  |0    |[0.2611615319121052,-0.2611615319121052]  |[0.564921800607426,0.43507819939257397] |1.0       |\n",
            "|[2.0,390.0,55.0,4.0,0.0,33.0,39.0]  |0    |[0.2611615319121052,-0.2611615319121052]  |[0.564921800607426,0.43507819939257397] |1.0       |\n",
            "|[2.0,390.0,55.0,5.0,0.0,33.0,39.0]  |0    |[0.2611615319121052,-0.2611615319121052]  |[0.564921800607426,0.43507819939257397] |1.0       |\n",
            "|[2.0,390.0,55.0,5.0,0.0,33.0,39.0]  |0    |[0.2611615319121052,-0.2611615319121052]  |[0.564921800607426,0.43507819939257397] |1.0       |\n",
            "|[2.0,390.0,55.0,5.0,0.0,33.0,39.0]  |0    |[0.2611615319121052,-0.2611615319121052]  |[0.564921800607426,0.43507819939257397] |1.0       |\n",
            "|[2.0,400.0,430.0,3.0,9.0,290.0,32.0]|0    |[0.6851160724565241,-0.6851160724565241]  |[0.66487959355277,0.33512040644722996]  |0.0       |\n",
            "|[2.0,400.0,430.0,4.0,9.0,290.0,32.0]|1    |[0.6851160724565241,-0.6851160724565241]  |[0.66487959355277,0.33512040644722996]  |0.0       |\n",
            "|[2.0,475.0,75.0,1.0,0.0,39.0,111.0] |1    |[0.21079654644802104,-0.21079654644802104]|[0.5525048585253056,0.4474951414746944] |1.0       |\n",
            "|[2.0,475.0,75.0,1.0,0.0,39.0,111.0] |1    |[0.21079654644802104,-0.21079654644802104]|[0.5525048585253056,0.4474951414746944] |1.0       |\n",
            "|[2.0,475.0,75.0,3.0,0.0,39.0,111.0] |0    |[0.21079654644802104,-0.21079654644802104]|[0.5525048585253056,0.4474951414746944] |1.0       |\n",
            "|[2.0,475.0,75.0,4.0,0.0,39.0,111.0] |0    |[0.21079654644802104,-0.21079654644802104]|[0.5525048585253056,0.4474951414746944] |1.0       |\n",
            "|[2.0,475.0,75.0,5.0,0.0,39.0,111.0] |0    |[0.21079654644802104,-0.21079654644802104]|[0.5525048585253056,0.4474951414746944] |1.0       |\n",
            "|[2.0,480.0,60.0,3.0,0.0,39.0,67.0]  |0    |[0.2090155351758084,-0.2090155351758084]  |[0.552064474463514,0.44793552553648597] |1.0       |\n",
            "|[2.0,480.0,60.0,4.0,0.0,39.0,67.0]  |0    |[0.2090155351758084,-0.2090155351758084]  |[0.552064474463514,0.44793552553648597] |1.0       |\n",
            "|[2.0,540.0,156.0,1.0,12.0,28.0,15.0]|0    |[0.6376568177720782,-0.6376568177720782]  |[0.6542235891647117,0.3457764108352883] |0.0       |\n",
            "|[2.0,540.0,156.0,1.0,12.0,28.0,15.0]|1    |[0.6376568177720782,-0.6376568177720782]  |[0.6542235891647117,0.3457764108352883] |0.0       |\n",
            "|[2.0,540.0,156.0,3.0,12.0,28.0,15.0]|1    |[0.6376568177720782,-0.6376568177720782]  |[0.6542235891647117,0.3457764108352883] |0.0       |\n",
            "|[2.0,540.0,156.0,6.0,12.0,28.0,15.0]|0    |[0.6376568177720782,-0.6376568177720782]  |[0.6542235891647117,0.3457764108352883] |0.0       |\n",
            "|[2.0,540.0,156.0,7.0,12.0,28.0,15.0]|1    |[0.6376568177720782,-0.6376568177720782]  |[0.6542235891647117,0.3457764108352883] |0.0       |\n",
            "|[2.0,560.0,332.0,2.0,3.0,4.0,15.0]  |0    |[0.2438812215521803,-0.2438812215521803]  |[0.5606698924851373,0.4393301075148627] |1.0       |\n",
            "|[2.0,560.0,332.0,2.0,3.0,4.0,15.0]  |0    |[0.2438812215521803,-0.2438812215521803]  |[0.5606698924851373,0.4393301075148627] |1.0       |\n",
            "|[2.0,560.0,332.0,3.0,3.0,4.0,15.0]  |1    |[0.2438812215521803,-0.2438812215521803]  |[0.5606698924851373,0.4393301075148627] |1.0       |\n",
            "|[2.0,560.0,332.0,5.0,3.0,4.0,15.0]  |0    |[0.2438812215521803,-0.2438812215521803]  |[0.5606698924851373,0.4393301075148627] |1.0       |\n",
            "|[2.0,560.0,332.0,5.0,3.0,4.0,15.0]  |0    |[0.2438812215521803,-0.2438812215521803]  |[0.5606698924851373,0.4393301075148627] |1.0       |\n",
            "|[2.0,560.0,332.0,5.0,3.0,4.0,15.0]  |1    |[0.2438812215521803,-0.2438812215521803]  |[0.5606698924851373,0.4393301075148627] |1.0       |\n",
            "|[2.0,560.0,332.0,6.0,3.0,4.0,15.0]  |0    |[0.2438812215521803,-0.2438812215521803]  |[0.5606698924851373,0.4393301075148627] |1.0       |\n",
            "|[2.0,855.0,284.0,2.0,15.0,19.0,22.0]|1    |[0.5533450276772814,-0.5533450276772814]  |[0.6349113142182918,0.36508868578170817]|0.0       |\n",
            "|[2.0,855.0,284.0,3.0,15.0,19.0,22.0]|1    |[0.5533450276772814,-0.5533450276772814]  |[0.6349113142182918,0.36508868578170817]|0.0       |\n",
            "|[2.0,855.0,284.0,4.0,15.0,19.0,22.0]|0    |[0.5533450276772814,-0.5533450276772814]  |[0.6349113142182918,0.36508868578170817]|0.0       |\n",
            "|[2.0,855.0,284.0,5.0,15.0,19.0,22.0]|0    |[0.5533450276772814,-0.5533450276772814]  |[0.6349113142182918,0.36508868578170817]|0.0       |\n",
            "|[2.0,855.0,284.0,5.0,15.0,19.0,22.0]|1    |[0.5533450276772814,-0.5533450276772814]  |[0.6349113142182918,0.36508868578170817]|0.0       |\n",
            "|[2.0,905.0,325.0,1.0,17.0,32.0,4.0] |0    |[0.6046176541995203,-0.6046176541995203]  |[0.6467120407816119,0.35328795921838807]|0.0       |\n",
            "|[2.0,905.0,325.0,1.0,17.0,32.0,4.0] |1    |[0.6046176541995203,-0.6046176541995203]  |[0.6467120407816119,0.35328795921838807]|0.0       |\n",
            "|[2.0,905.0,325.0,1.0,17.0,32.0,4.0] |1    |[0.6046176541995203,-0.6046176541995203]  |[0.6467120407816119,0.35328795921838807]|0.0       |\n",
            "|[2.0,905.0,325.0,2.0,17.0,32.0,4.0] |1    |[0.6046176541995203,-0.6046176541995203]  |[0.6467120407816119,0.35328795921838807]|0.0       |\n",
            "|[2.0,905.0,325.0,3.0,17.0,32.0,4.0] |1    |[0.6046176541995203,-0.6046176541995203]  |[0.6467120407816119,0.35328795921838807]|0.0       |\n",
            "|[2.0,905.0,325.0,4.0,17.0,32.0,4.0] |0    |[0.6046176541995203,-0.6046176541995203]  |[0.6467120407816119,0.35328795921838807]|0.0       |\n",
            "|[2.0,905.0,325.0,4.0,17.0,32.0,4.0] |0    |[0.6046176541995203,-0.6046176541995203]  |[0.6467120407816119,0.35328795921838807]|0.0       |\n",
            "|[2.0,905.0,325.0,6.0,17.0,32.0,4.0] |0    |[0.6046176541995203,-0.6046176541995203]  |[0.6467120407816119,0.35328795921838807]|0.0       |\n",
            "|[2.0,905.0,325.0,7.0,17.0,32.0,4.0] |0    |[0.6046176541995203,-0.6046176541995203]  |[0.6467120407816119,0.35328795921838807]|0.0       |\n",
            "|[2.0,905.0,325.0,7.0,17.0,32.0,4.0] |1    |[0.6046176541995203,-0.6046176541995203]  |[0.6467120407816119,0.35328795921838807]|0.0       |\n",
            "|[2.0,1025.0,483.0,1.0,8.0,32.0,1.0] |0    |[0.16176830545124155,-0.16176830545124155]|[0.5403541125417383,0.45964588745826174]|1.0       |\n",
            "|[2.0,1025.0,483.0,4.0,8.0,32.0,1.0] |0    |[0.16176830545124155,-0.16176830545124155]|[0.5403541125417383,0.45964588745826174]|1.0       |\n",
            "|[2.0,1025.0,483.0,6.0,8.0,32.0,1.0] |0    |[0.16176830545124155,-0.16176830545124155]|[0.5403541125417383,0.45964588745826174]|1.0       |\n",
            "|[2.0,1025.0,483.0,6.0,8.0,32.0,1.0] |1    |[0.16176830545124155,-0.16176830545124155]|[0.5403541125417383,0.45964588745826174]|1.0       |\n",
            "|[2.0,1027.0,483.0,7.0,8.0,32.0,1.0] |0    |[0.1605652091458155,-0.1605652091458155]  |[0.5400552831807669,0.4599447168192331] |1.0       |\n",
            "|[2.0,1035.0,484.0,2.0,8.0,32.0,1.0] |0    |[0.1556710419580214,-0.1556710419580214]  |[0.5388393577718849,0.46116064222811515]|1.0       |\n",
            "|[2.0,1035.0,484.0,2.0,8.0,32.0,1.0] |1    |[0.1556710419580214,-0.1556710419580214]  |[0.5388393577718849,0.46116064222811515]|1.0       |\n",
            "|[2.0,1035.0,484.0,3.0,8.0,32.0,1.0] |1    |[0.1556710419580214,-0.1556710419580214]  |[0.5388393577718849,0.46116064222811515]|1.0       |\n",
            "|[2.0,1035.0,484.0,5.0,8.0,32.0,1.0] |0    |[0.1556710419580214,-0.1556710419580214]  |[0.5388393577718849,0.46116064222811515]|1.0       |\n",
            "|[2.0,1035.0,484.0,6.0,8.0,32.0,1.0] |0    |[0.1556710419580214,-0.1556710419580214]  |[0.5388393577718849,0.46116064222811515]|1.0       |\n",
            "+------------------------------------+-----+------------------------------------------+----------------------------------------+----------+\n",
            "only showing top 100 rows\n",
            "\n"
          ]
        }
      ]
    },
    {
      "cell_type": "code",
      "source": [
        "print(binaryEvaluator.evaluate(pred_data))"
      ],
      "metadata": {
        "colab": {
          "base_uri": "https://localhost:8080/"
        },
        "id": "VQob4NsKN3VO",
        "outputId": "cd75b4e6-e179-492d-b744-be3450e27ed4"
      },
      "execution_count": null,
      "outputs": [
        {
          "output_type": "stream",
          "name": "stdout",
          "text": [
            "0.5630789735460885\n"
          ]
        }
      ]
    },
    {
      "cell_type": "markdown",
      "source": [
        "Decision Tree Classifier"
      ],
      "metadata": {
        "id": "CAUDm9XPF7eA"
      }
    },
    {
      "cell_type": "code",
      "source": [
        "from pyspark.ml.classification import DecisionTreeClassifier\n",
        "dc = DecisionTreeClassifier(featuresCol =\"features\",labelCol=\"Class\")"
      ],
      "metadata": {
        "id": "WckX4G6zO2VZ"
      },
      "execution_count": null,
      "outputs": []
    },
    {
      "cell_type": "code",
      "source": [
        "max_bins_value = 300  # Or any value higher than the number of distinct values in the categorical feature\n",
        "dt = DecisionTreeClassifier(labelCol=\"Class\", featuresCol=\"features\", maxBins=max_bins_value)"
      ],
      "metadata": {
        "id": "aziHYaurA4e1"
      },
      "execution_count": null,
      "outputs": []
    },
    {
      "cell_type": "code",
      "source": [
        "dc_model = dt.fit(train_data)\n",
        "y_pred = dc_model.transform(test_data)"
      ],
      "metadata": {
        "id": "dstLLZ0BO2TE"
      },
      "execution_count": null,
      "outputs": []
    },
    {
      "cell_type": "code",
      "source": [
        "y_pred.show()"
      ],
      "metadata": {
        "id": "k5p6OgexO2Qp",
        "colab": {
          "base_uri": "https://localhost:8080/"
        },
        "outputId": "22209fc6-62d9-45c6-d4d2-9f8af08abb5a"
      },
      "execution_count": null,
      "outputs": [
        {
          "output_type": "stream",
          "name": "stdout",
          "text": [
            "+--------------------+-----+-----------------+--------------------+----------+\n",
            "|            features|Class|    rawPrediction|         probability|prediction|\n",
            "+--------------------+-----+-----------------+--------------------+----------+\n",
            "|[1.0,420.0,60.0,1...|    0|  [1503.0,1064.0]|[0.58550837553564...|       0.0|\n",
            "|[1.0,420.0,60.0,1...|    1|  [1503.0,1064.0]|[0.58550837553564...|       0.0|\n",
            "|[1.0,420.0,60.0,3...|    1|  [1503.0,1064.0]|[0.58550837553564...|       0.0|\n",
            "|[1.0,420.0,60.0,3...|    1|  [1503.0,1064.0]|[0.58550837553564...|       0.0|\n",
            "|[1.0,420.0,60.0,5...|    0|  [1503.0,1064.0]|[0.58550837553564...|       0.0|\n",
            "|[1.0,480.0,355.0,...|    1|[53035.0,19617.0]|[0.72998678632384...|       0.0|\n",
            "|[1.0,480.0,355.0,...|    0|[53035.0,19617.0]|[0.72998678632384...|       0.0|\n",
            "|[1.0,480.0,360.0,...|    0|[53035.0,19617.0]|[0.72998678632384...|       0.0|\n",
            "|[1.0,485.0,187.0,...|    1|[53035.0,19617.0]|[0.72998678632384...|       0.0|\n",
            "|[1.0,485.0,187.0,...|    1|[53035.0,19617.0]|[0.72998678632384...|       0.0|\n",
            "|[1.0,485.0,187.0,...|    1|[53035.0,19617.0]|[0.72998678632384...|       0.0|\n",
            "|[1.0,485.0,187.0,...|    1|[53035.0,19617.0]|[0.72998678632384...|       0.0|\n",
            "|[1.0,485.0,187.0,...|    0|[53035.0,19617.0]|[0.72998678632384...|       0.0|\n",
            "|[1.0,485.0,187.0,...|    1|[53035.0,19617.0]|[0.72998678632384...|       0.0|\n",
            "|[1.0,500.0,50.0,1...|    0|  [1503.0,1064.0]|[0.58550837553564...|       0.0|\n",
            "|[1.0,500.0,50.0,1...|    0|  [1503.0,1064.0]|[0.58550837553564...|       0.0|\n",
            "|[1.0,500.0,50.0,2...|    0|  [1503.0,1064.0]|[0.58550837553564...|       0.0|\n",
            "|[1.0,500.0,50.0,3...|    1|  [1503.0,1064.0]|[0.58550837553564...|       0.0|\n",
            "|[1.0,500.0,60.0,1...|    1|  [1503.0,1064.0]|[0.58550837553564...|       0.0|\n",
            "|[1.0,525.0,198.0,...|    1|[53035.0,19617.0]|[0.72998678632384...|       0.0|\n",
            "+--------------------+-----+-----------------+--------------------+----------+\n",
            "only showing top 20 rows\n",
            "\n"
          ]
        }
      ]
    },
    {
      "cell_type": "code",
      "source": [
        "from pyspark.ml.evaluation import MulticlassClassificationEvaluator\n",
        "mult_eval =MulticlassClassificationEvaluator(labelCol=\"Class\",metricName=\"accuracy\")"
      ],
      "metadata": {
        "id": "SdwObPjYO2N5"
      },
      "execution_count": null,
      "outputs": []
    },
    {
      "cell_type": "code",
      "source": [
        "mult_eval.evaluate(y_pred)"
      ],
      "metadata": {
        "id": "3EQpEIW_O2LJ",
        "colab": {
          "base_uri": "https://localhost:8080/"
        },
        "outputId": "5200d911-2bae-4c03-a478-da1a0d899103"
      },
      "execution_count": null,
      "outputs": [
        {
          "output_type": "execute_result",
          "data": {
            "text/plain": [
              "0.6362190997096432"
            ]
          },
          "metadata": {},
          "execution_count": 51
        }
      ]
    },
    {
      "cell_type": "markdown",
      "source": [
        "RESULT:\n",
        "The accuracy values obtained for logistic regression (0.563) and decision tree (0.636) models in PySpark suggest that the decision tree model performs better in terms of predictive accuracy on the test dataset."
      ],
      "metadata": {
        "id": "6xR-_KSEDnCg"
      }
    },
    {
      "cell_type": "markdown",
      "source": [
        "In summary, based on the given accuracy values, the decision tree model appears to be a better choice for predicting the target variable in your dataset. However, it's essential to consider various factors, including model interpretability, computational complexity, and the specific goals of your analysis, when selecting the final model."
      ],
      "metadata": {
        "id": "E1qKKOeCD5L4"
      }
    }
  ]
}